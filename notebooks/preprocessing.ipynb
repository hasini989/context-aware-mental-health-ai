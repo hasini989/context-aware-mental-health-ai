{
 "cells": [
  {
   "cell_type": "code",
   "execution_count": null,
   "id": "cd09eab8",
   "metadata": {},
   "outputs": [
    {
     "name": "stdout",
     "output_type": "stream",
     "text": [
      "Index(['id', 'text', 'label'], dtype='object')\n"
     ]
    },
    {
     "data": {
      "text/html": [
       "<div>\n",
       "<style scoped>\n",
       "    .dataframe tbody tr th:only-of-type {\n",
       "        vertical-align: middle;\n",
       "    }\n",
       "\n",
       "    .dataframe tbody tr th {\n",
       "        vertical-align: top;\n",
       "    }\n",
       "\n",
       "    .dataframe thead th {\n",
       "        text-align: right;\n",
       "    }\n",
       "</style>\n",
       "<table border=\"1\" class=\"dataframe\">\n",
       "  <thead>\n",
       "    <tr style=\"text-align: right;\">\n",
       "      <th></th>\n",
       "      <th>id</th>\n",
       "      <th>text</th>\n",
       "      <th>label</th>\n",
       "      <th>cleaned</th>\n",
       "    </tr>\n",
       "  </thead>\n",
       "  <tbody>\n",
       "    <tr>\n",
       "      <th>0</th>\n",
       "      <td>7x7dx</td>\n",
       "      <td>c07nkao c07nk63</td>\n",
       "      <td>1 0</td>\n",
       "      <td>c07nkao c07nk63</td>\n",
       "    </tr>\n",
       "    <tr>\n",
       "      <th>1</th>\n",
       "      <td>7xtxk</td>\n",
       "      <td>c07pji4 c07ppds</td>\n",
       "      <td>1 0</td>\n",
       "      <td>c07pji4 c07ppds</td>\n",
       "    </tr>\n",
       "    <tr>\n",
       "      <th>2</th>\n",
       "      <td>7zh5l</td>\n",
       "      <td>c07twag c07twp2</td>\n",
       "      <td>1 0</td>\n",
       "      <td>c07twag c07twp2</td>\n",
       "    </tr>\n",
       "    <tr>\n",
       "      <th>3</th>\n",
       "      <td>80nmo</td>\n",
       "      <td>c07y1rj c07xhyn</td>\n",
       "      <td>0 1</td>\n",
       "      <td>c07y1rj c07xhyn</td>\n",
       "    </tr>\n",
       "    <tr>\n",
       "      <th>4</th>\n",
       "      <td>8139p</td>\n",
       "      <td>c07yhlm c07yoiw</td>\n",
       "      <td>1 0</td>\n",
       "      <td>c07yhlm c07yoiw</td>\n",
       "    </tr>\n",
       "  </tbody>\n",
       "</table>\n",
       "</div>"
      ],
      "text/plain": [
       "      id             text label          cleaned\n",
       "0  7x7dx  c07nkao c07nk63   1 0  c07nkao c07nk63\n",
       "1  7xtxk  c07pji4 c07ppds   1 0  c07pji4 c07ppds\n",
       "2  7zh5l  c07twag c07twp2   1 0  c07twag c07twp2\n",
       "3  80nmo  c07y1rj c07xhyn   0 1  c07y1rj c07xhyn\n",
       "4  8139p  c07yhlm c07yoiw   1 0  c07yhlm c07yoiw"
      ]
     },
     "execution_count": 6,
     "metadata": {},
     "output_type": "execute_result"
    }
   ],
   "source": [
    "import pandas as pd\n",
    "import re\n",
    "\n",
    "def clean_text(text):\n",
    "    text = str(text).lower()\n",
    "    text = re.sub(r'https?://\\S+', '', text)\n",
    "    text = re.sub(r'[^\\w\\s]', '', text)\n",
    "    return text\n",
    "\n",
    "# Load the dataset\n",
    "df = pd.read_csv(\"/Users/hasini/Downloads/context-aware-mental-health-ai/data/test-balanced.csv\",\n",
    "header=None,  # tells pandas there's no header row\n",
    "    names=[\"id\", \"text\", \"label\"]).head(1000)\n",
    "\n",
    "# Clean the text\n",
    "df['cleaned'] = df['text'].apply(clean_text)\n",
    "\n",
    "# Save it\n",
    "df.to_csv(\"/Users/hasini/Downloads/context-aware-mental-health-ai/data/cleaned.csv\", index=False)\n",
    "\n",
    "df.head()"
   ]
  }
 ],
 "metadata": {
  "kernelspec": {
   "display_name": "base",
   "language": "python",
   "name": "python3"
  },
  "language_info": {
   "codemirror_mode": {
    "name": "ipython",
    "version": 3
   },
   "file_extension": ".py",
   "mimetype": "text/x-python",
   "name": "python",
   "nbconvert_exporter": "python",
   "pygments_lexer": "ipython3",
   "version": "3.11.4"
  }
 },
 "nbformat": 4,
 "nbformat_minor": 5
}
